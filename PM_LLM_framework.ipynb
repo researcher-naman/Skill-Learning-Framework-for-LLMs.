{
  "cells": [
    {
      "cell_type": "markdown",
      "metadata": {
        "id": "hJfPZJ0ogyaH"
      },
      "source": [
        "### Import Dataset for Process mining"
      ]
    },
    {
      "cell_type": "code",
      "execution_count": null,
      "metadata": {
        "colab": {
          "base_uri": "https://localhost:8080/"
        },
        "id": "toJO5oLYgxcs",
        "outputId": "49a608ec-2952-411c-9c4e-70a63cf4d61a"
      },
      "outputs": [
        {
          "name": "stdout",
          "output_type": "stream",
          "text": [
            "Drive already mounted at /content/drive; to attempt to forcibly remount, call drive.mount(\"/content/drive\", force_remount=True).\n"
          ]
        }
      ],
      "source": [
        "from google.colab import drive\n",
        "import pandas as pd\n",
        "\n",
        "drive.mount('/content/drive')"
      ]
    },
    {
      "cell_type": "code",
      "execution_count": null,
      "metadata": {
        "colab": {
          "base_uri": "https://localhost:8080/"
        },
        "id": "aAJN3sH4g-4W",
        "outputId": "b68e8304-1b33-46e0-9fb6-9ef26ac5b549"
      },
      "outputs": [
        {
          "name": "stdout",
          "output_type": "stream",
          "text": [
            "<class 'pandas.core.frame.DataFrame'>\n",
            "RangeIndex: 180000 entries, 0 to 179999\n",
            "Data columns (total 14 columns):\n",
            " #   Column            Non-Null Count   Dtype  \n",
            "---  ------            --------------   -----  \n",
            " 0   case_id           180000 non-null  object \n",
            " 1   activity_name     180000 non-null  object \n",
            " 2   timestamp         180000 non-null  object \n",
            " 3   claimant_name     180000 non-null  object \n",
            " 4   agent_name        180000 non-null  object \n",
            " 5   adjuster_name     180000 non-null  object \n",
            " 6   claim_amount      180000 non-null  float64\n",
            " 7   claimant_age      180000 non-null  int64  \n",
            " 8   type_of_policy    180000 non-null  object \n",
            " 9   car_make          180000 non-null  object \n",
            " 10  car_model         180000 non-null  object \n",
            " 11  car_year          180000 non-null  int64  \n",
            " 12  type_of_accident  180000 non-null  object \n",
            " 13  user_type         180000 non-null  object \n",
            "dtypes: float64(1), int64(2), object(11)\n",
            "memory usage: 19.2+ MB\n",
            "None\n"
          ]
        }
      ],
      "source": [
        "file_path = \"/content/drive/My Drive/major_project/Insurance_claims_event_log.csv\"\n",
        "\n",
        "event_log = pd.read_csv(file_path)\n",
        "print(event_log.info())"
      ]
    },
    {
      "cell_type": "markdown",
      "metadata": {
        "id": "taiKcCzriq3A"
      },
      "source": [
        "Timestamp Verification and Conversion"
      ]
    },
    {
      "cell_type": "code",
      "execution_count": null,
      "metadata": {
        "colab": {
          "base_uri": "https://localhost:8080/"
        },
        "id": "PH7q5VOpiBLI",
        "outputId": "f0ebbb46-a45b-46bd-ef54-bd80ca9267dc"
      },
      "outputs": [
        {
          "name": "stdout",
          "output_type": "stream",
          "text": [
            "0\n",
            "0   2020-09-24 14:08:42.423530\n",
            "1   2020-10-13 03:51:28.627923\n",
            "2   2020-10-14 22:30:14.948970\n",
            "3   2020-10-24 11:49:39.053890\n",
            "4   2020-10-27 05:46:04.378718\n",
            "Name: timestamp, dtype: datetime64[ns]\n"
          ]
        }
      ],
      "source": [
        "print(event_log['timestamp'].isnull().sum())\n",
        "event_log['timestamp'] = pd.to_datetime(event_log['timestamp'], errors='coerce')\n",
        "event_log = event_log.dropna(subset=['timestamp'])\n",
        "\n",
        "print(event_log['timestamp'].head())"
      ]
    },
    {
      "cell_type": "markdown",
      "metadata": {
        "id": "a6zbdy7GiuKT"
      },
      "source": [
        "Duplicate Check"
      ]
    },
    {
      "cell_type": "code",
      "execution_count": null,
      "metadata": {
        "colab": {
          "base_uri": "https://localhost:8080/"
        },
        "id": "S-bZfcCiiuqm",
        "outputId": "505a1d58-0219-4414-9a1a-9d4b26799836"
      },
      "outputs": [
        {
          "name": "stdout",
          "output_type": "stream",
          "text": [
            "Number of duplicate rows: 0\n",
            "0\n"
          ]
        }
      ],
      "source": [
        "duplicates = event_log.duplicated().sum()\n",
        "print(f\"Number of duplicate rows: {duplicates}\")\n",
        "\n",
        "event_log = event_log.drop_duplicates()\n",
        "print(event_log.duplicated().sum())"
      ]
    },
    {
      "cell_type": "markdown",
      "metadata": {
        "id": "Sl80vrcGi38o"
      },
      "source": [
        "Sort by case_id and timestamp"
      ]
    },
    {
      "cell_type": "code",
      "execution_count": null,
      "metadata": {
        "id": "vB7hrfNLi3qG"
      },
      "outputs": [],
      "source": [
        "# Sort by case_id and timestamp\n",
        "event_log = event_log.sort_values(by=['case_id', 'timestamp'])"
      ]
    },
    {
      "cell_type": "markdown",
      "metadata": {
        "id": "QMugYrr9jDdA"
      },
      "source": [
        "## Ensureing Required Columns Are Present for Process Mining\n",
        "For process mining, the essential columns are:\n",
        "\n",
        "- case_id (identifies a unique process instance).\n",
        "- activity_name (the event or activity in the process).\n",
        "- timestamp (when the activity occurred)."
      ]
    },
    {
      "cell_type": "code",
      "execution_count": null,
      "metadata": {
        "colab": {
          "base_uri": "https://localhost:8080/"
        },
        "id": "yN9llucFjDPg",
        "outputId": "efc44ce4-e53c-4d6c-bed5-4769280b188a"
      },
      "outputs": [
        {
          "name": "stdout",
          "output_type": "stream",
          "text": [
            "<class 'pandas.core.frame.DataFrame'>\n",
            "Index: 180000 entries, 75954 to 178187\n",
            "Data columns (total 3 columns):\n",
            " #   Column         Non-Null Count   Dtype         \n",
            "---  ------         --------------   -----         \n",
            " 0   case_id        180000 non-null  object        \n",
            " 1   activity_name  180000 non-null  object        \n",
            " 2   timestamp      180000 non-null  datetime64[ns]\n",
            "dtypes: datetime64[ns](1), object(2)\n",
            "memory usage: 5.5+ MB\n",
            "None\n"
          ]
        }
      ],
      "source": [
        "pm_log = event_log[['case_id', 'activity_name', 'timestamp']]\n",
        "print(pm_log.info())"
      ]
    },
    {
      "cell_type": "markdown",
      "metadata": {
        "id": "woZXEhAcjruf"
      },
      "source": [
        "## Appling Process Mining"
      ]
    },
    {
      "cell_type": "markdown",
      "metadata": {
        "id": "Rwi7kJFCjvQj"
      },
      "source": [
        "1. Convert the Event Log for Process Mining"
      ]
    },
    {
      "cell_type": "code",
      "execution_count": null,
      "metadata": {
        "colab": {
          "base_uri": "https://localhost:8080/"
        },
        "id": "fM89OFmmj2zU",
        "outputId": "3e659f40-1b98-44cc-c45f-e0c4cb34e73d"
      },
      "outputs": [
        {
          "name": "stdout",
          "output_type": "stream",
          "text": [
            "Requirement already satisfied: pm4py in /usr/local/lib/python3.10/dist-packages (2.7.13)\n",
            "Requirement already satisfied: numpy in /usr/local/lib/python3.10/dist-packages (from pm4py) (1.26.4)\n",
            "Requirement already satisfied: pandas in /usr/local/lib/python3.10/dist-packages (from pm4py) (2.2.2)\n",
            "Requirement already satisfied: deprecation in /usr/local/lib/python3.10/dist-packages (from pm4py) (2.1.0)\n",
            "Requirement already satisfied: networkx in /usr/local/lib/python3.10/dist-packages (from pm4py) (3.4.2)\n",
            "Requirement already satisfied: graphviz in /usr/local/lib/python3.10/dist-packages (from pm4py) (0.20.3)\n",
            "Requirement already satisfied: wheel in /usr/local/lib/python3.10/dist-packages (from pm4py) (0.45.1)\n",
            "Requirement already satisfied: setuptools in /usr/local/lib/python3.10/dist-packages (from pm4py) (75.1.0)\n",
            "Requirement already satisfied: intervaltree in /usr/local/lib/python3.10/dist-packages (from pm4py) (3.1.0)\n",
            "Requirement already satisfied: lxml in /usr/local/lib/python3.10/dist-packages (from pm4py) (5.3.0)\n",
            "Requirement already satisfied: matplotlib in /usr/local/lib/python3.10/dist-packages (from pm4py) (3.10.0)\n",
            "Requirement already satisfied: pydotplus in /usr/local/lib/python3.10/dist-packages (from pm4py) (2.0.2)\n",
            "Requirement already satisfied: pytz in /usr/local/lib/python3.10/dist-packages (from pm4py) (2024.2)\n",
            "Requirement already satisfied: scipy in /usr/local/lib/python3.10/dist-packages (from pm4py) (1.13.1)\n",
            "Requirement already satisfied: tqdm in /usr/local/lib/python3.10/dist-packages (from pm4py) (4.67.1)\n",
            "Requirement already satisfied: cvxopt in /usr/local/lib/python3.10/dist-packages (from pm4py) (1.3.2)\n",
            "Requirement already satisfied: packaging in /usr/local/lib/python3.10/dist-packages (from deprecation->pm4py) (24.2)\n",
            "Requirement already satisfied: sortedcontainers<3.0,>=2.0 in /usr/local/lib/python3.10/dist-packages (from intervaltree->pm4py) (2.4.0)\n",
            "Requirement already satisfied: contourpy>=1.0.1 in /usr/local/lib/python3.10/dist-packages (from matplotlib->pm4py) (1.3.1)\n",
            "Requirement already satisfied: cycler>=0.10 in /usr/local/lib/python3.10/dist-packages (from matplotlib->pm4py) (0.12.1)\n",
            "Requirement already satisfied: fonttools>=4.22.0 in /usr/local/lib/python3.10/dist-packages (from matplotlib->pm4py) (4.55.3)\n",
            "Requirement already satisfied: kiwisolver>=1.3.1 in /usr/local/lib/python3.10/dist-packages (from matplotlib->pm4py) (1.4.8)\n",
            "Requirement already satisfied: pillow>=8 in /usr/local/lib/python3.10/dist-packages (from matplotlib->pm4py) (11.1.0)\n",
            "Requirement already satisfied: pyparsing>=2.3.1 in /usr/local/lib/python3.10/dist-packages (from matplotlib->pm4py) (3.2.1)\n",
            "Requirement already satisfied: python-dateutil>=2.7 in /usr/local/lib/python3.10/dist-packages (from matplotlib->pm4py) (2.8.2)\n",
            "Requirement already satisfied: tzdata>=2022.7 in /usr/local/lib/python3.10/dist-packages (from pandas->pm4py) (2024.2)\n",
            "Requirement already satisfied: six>=1.5 in /usr/local/lib/python3.10/dist-packages (from python-dateutil>=2.7->matplotlib->pm4py) (1.17.0)\n"
          ]
        }
      ],
      "source": [
        "!pip install pm4py"
      ]
    },
    {
      "cell_type": "code",
      "execution_count": null,
      "metadata": {
        "colab": {
          "base_uri": "https://localhost:8080/"
        },
        "id": "bLWSIpbIjWBo",
        "outputId": "a85c0fce-2115-4563-fb81-e6257eee6bc0"
      },
      "outputs": [
        {
          "name": "stdout",
          "output_type": "stream",
          "text": [
            "Number of cases: 30000\n"
          ]
        }
      ],
      "source": [
        "import pm4py\n",
        "from pm4py.objects.conversion.log import converter as log_converter\n",
        "\n",
        "pm_log = pm_log.rename(columns={\n",
        "    \"case_id\": \"case:concept:name\",\n",
        "    \"activity_name\": \"concept:name\",\n",
        "    \"timestamp\": \"time:timestamp\"\n",
        "})\n",
        "\n",
        "# Convert the DataFrame to an Event Log object\n",
        "log = log_converter.apply(pm_log, parameters={\n",
        "    \"case_id_key\": \"case:concept:name\",\n",
        "    \"activity_key\": \"concept:name\",\n",
        "    \"timestamp_key\": \"time:timestamp\"\n",
        "})\n",
        "\n",
        "\n",
        "# Check the log to ensure it's converted properly\n",
        "print(f\"Number of cases: {len(log)}\")"
      ]
    },
    {
      "cell_type": "markdown",
      "metadata": {
        "id": "sw44oIy2kfcu"
      },
      "source": [
        "2. Discover the Process Model"
      ]
    },
    {
      "cell_type": "code",
      "execution_count": null,
      "metadata": {
        "colab": {
          "base_uri": "https://localhost:8080/",
          "height": 256
        },
        "id": "Y4Bj3YNBjzar",
        "outputId": "475d1083-830c-4072-e64b-53160764dcc9"
      },
      "outputs": [
        {
          "data": {
            "image/png": "[encoded data removed]",
            "text/plain": [
              "<IPython.core.display.Image object>"
            ]
          },
          "metadata": {},
          "output_type": "display_data"
        }
      ],
      "source": [
        "from pm4py.visualization.process_tree import visualizer as pt_visualizer\n",
        "\n",
        "# Apply the Inductive Miner algorithm to discover a process tree\n",
        "process_tree = pm4py.discover_process_tree_inductive(log)\n",
        "\n",
        "# Visualize the process tree\n",
        "gviz = pt_visualizer.apply(process_tree)\n",
        "pt_visualizer.view(gviz)"
      ]
    },
    {
      "cell_type": "markdown",
      "metadata": {
        "id": "L3g9QmXckveu"
      },
      "source": [
        "3. Analyze Process Statistics"
      ]
    },
    {
      "cell_type": "code",
      "execution_count": null,
      "metadata": {
        "colab": {
          "base_uri": "https://localhost:8080/"
        },
        "id": "lLTYXj6GlK3u",
        "outputId": "f989f4f9-0671-42d5-e83b-10b26e9e0b98"
      },
      "outputs": [
        {
          "name": "stdout",
          "output_type": "stream",
          "text": [
            "['Any', 'BusinessHours', 'DEFAULT_TIMESTAMP_KEY', 'DEFAULT_TRACEID_KEY', 'Dict', 'Enum', 'EventLog', 'List', 'Optional', 'Parameters', 'Union', '__builtins__', '__cached__', '__doc__', '__file__', '__loader__', '__name__', '__package__', '__spec__', 'case_duration_commons', 'constants', 'exec_utils', 'get_all_case_durations', 'get_cases_description', 'get_events', 'get_first_quartile_case_duration', 'get_kde_caseduration', 'get_kde_caseduration_json', 'get_median_case_duration', 'get_variant_statistics', 'index_log_caseid', 'log_converter', 'np', 'variants_get']\n"
          ]
        }
      ],
      "source": [
        "from pm4py.statistics.traces.generic.log import case_statistics as case_stats\n",
        "\n",
        "print(dir(case_stats))"
      ]
    },
    {
      "cell_type": "code",
      "execution_count": null,
      "metadata": {
        "colab": {
          "base_uri": "https://localhost:8080/"
        },
        "id": "sTmHjWv6kkbo",
        "outputId": "4d9ea72a-1f91-4f55-ef6a-519a62411bc7"
      },
      "outputs": [
        {
          "name": "stdout",
          "output_type": "stream",
          "text": [
            "Average case duration: 3025321.3684709542 seconds\n",
            "Most frequent traces:\n",
            "Variant: ('First Notification of Loss (FNOL)', 'Assign Claim', 'Claim Decision', 'Set Reserve', 'Payment Sent', 'Close Claim'), Count: 29265\n",
            "Variant: ('First Notification of Loss (FNOL)', 'Claim Decision', 'Assign Claim', 'Set Reserve', 'Payment Sent', 'Close Claim'), Count: 188\n",
            "Variant: ('First Notification of Loss (FNOL)', 'Assign Claim', 'Claim Decision', 'Payment Sent', 'Set Reserve', 'Close Claim'), Count: 180\n",
            "Variant: ('First Notification of Loss (FNOL)', 'Assign Claim', 'Set Reserve', 'Claim Decision', 'Payment Sent', 'Close Claim'), Count: 175\n",
            "Variant: ('First Notification of Loss (FNOL)', 'Assign Claim', 'Claim Decision', 'Set Reserve', 'Close Claim', 'Payment Sent'), Count: 173\n"
          ]
        }
      ],
      "source": [
        "from pm4py.statistics.traces.generic.log import case_statistics as case_stats\n",
        "\n",
        "# Case duration statistics\n",
        "case_durations = case_stats.get_all_case_durations(log, parameters={\"timestamp_key\": \"timestamp\"})\n",
        "print(f\"Average case duration: {sum(case_durations) / len(case_durations)} seconds\")\n",
        "\n",
        "# Get variant statistics instead of get_most_common_traces\n",
        "variant_statistics = case_stats.get_variant_statistics(log, parameters={\"timestamp_key\": \"timestamp\"})\n",
        "sorted_variants = sorted(variant_statistics, key=lambda x: x['count'], reverse=True)\n",
        "\n",
        "print(\"Most frequent traces:\")\n",
        "for variant in sorted_variants[:5]:  # Top 5 traces\n",
        "    print(f\"Variant: {variant['variant']}, Count: {variant['count']}\")"
      ]
    },
    {
      "cell_type": "markdown",
      "metadata": {
        "id": "FmK6eXdCmKOl"
      },
      "source": [
        "#  Hugging Face Transformers (LLM Integration Framework)"
      ]
    },
    {
      "cell_type": "markdown",
      "metadata": {
        "id": "lJdzA5BBwh_-"
      },
      "source": [
        "1. Define the Process Insights"
      ]
    },
    {
      "cell_type": "code",
      "execution_count": null,
      "metadata": {
        "id": "fpUXAjgvuhaQ"
      },
      "outputs": [],
      "source": [
        "process_insights = {\n",
        "    \"average_case_duration\": \"3025321.37 seconds\",\n",
        "    \"frequent_traces\": [\n",
        "        {\"variant\": ('First Notification of Loss (FNOL)', 'Assign Claim', 'Claim Decision', 'Set Reserve', 'Payment Sent', 'Close Claim'), \"count\": 29265},\n",
        "        {\"variant\": ('First Notification of Loss (FNOL)', 'Claim Decision', 'Assign Claim', 'Set Reserve', 'Payment Sent', 'Close Claim'), \"count\": 188},\n",
        "        {\"variant\": ('First Notification of Loss (FNOL)', 'Assign Claim', 'Claim Decision', 'Payment Sent', 'Set Reserve', 'Close Claim'), \"count\": 180},\n",
        "        {\"variant\": ('First Notification of Loss (FNOL)', 'Assign Claim', 'Set Reserve', 'Claim Decision', 'Payment Sent', 'Close Claim'), \"count\": 175},\n",
        "        {\"variant\": ('First Notification of Loss (FNOL)', 'Assign Claim', 'Claim Decision', 'Set Reserve', 'Close Claim', 'Payment Sent'), \"count\": 173},\n",
        "    ],\n",
        "}"
      ]
    },
    {
      "cell_type": "markdown",
      "metadata": {
        "id": "NBXZE4RdwjJd"
      },
      "source": [
        "2. Write the Prompt for the LLM"
      ]
    },
    {
      "cell_type": "code",
      "execution_count": null,
      "metadata": {
        "id": "1JA3fsXEwUwi"
      },
      "outputs": [],
      "source": [
        "def create_prompt_with_insights(question, insights):\n",
        "    prompt = f\"\"\"\n",
        "The following are process insights for handling insurance claims:\n",
        "1. Average case duration: {insights['average_case_duration']}\n",
        "2. Most frequent traces:\n",
        "\"\"\"\n",
        "    for trace in insights[\"frequent_traces\"]:\n",
        "        prompt += f\"    - Trace: {trace['variant']}, Count: {trace['count']}\\n\"\n",
        "\n",
        "    prompt += f\"\"\"\n",
        "Question: {question}\n",
        "Answer:\n",
        "\"\"\"\n",
        "    return prompt"
      ]
    },
    {
      "cell_type": "code",
      "execution_count": null,
      "metadata": {
        "id": "qqWeu6t2wn84"
      },
      "outputs": [],
      "source": [
        "def create_prompt_without_insights(question):\n",
        "    prompt = f\"\"\"\n",
        "The following process represents the handling of insurance claims:\n",
        "['First Notification of Loss (FNOL)', 'Assign Claim', 'Claim Decision', 'Set Reserve', 'Payment Sent', 'Close Claim']\n",
        "\n",
        "Question: {question}\n",
        "Answer:\n",
        "\"\"\"\n",
        "    return prompt"
      ]
    },
    {
      "cell_type": "markdown",
      "metadata": {
        "id": "UhKcvppgw1si"
      },
      "source": [
        "3. Query the LLM"
      ]
    },
    {
      "cell_type": "code",
      "execution_count": null,
      "metadata": {
        "colab": {
          "base_uri": "https://localhost:8080/"
        },
        "id": "yCcjEBlFwvAn",
        "outputId": "166ec120-caa0-4c20-e5e2-dacaac0dd2ca"
      },
      "outputs": [
        {
          "name": "stderr",
          "output_type": "stream",
          "text": [
            "Device set to use cpu\n"
          ]
        }
      ],
      "source": [
        "from transformers import pipeline\n",
        "\n",
        "# Load the LLM\n",
        "generator = pipeline(\"text-generation\", model=\"EleutherAI/gpt-neo-1.3B\")\n",
        "\n",
        "# Query with process insights\n",
        "def answer_with_insights(question, insights):\n",
        "    prompt = create_prompt_with_insights(question, insights)\n",
        "    response = generator(prompt, max_length=2000, num_return_sequences=1)\n",
        "    return response[0][\"generated_text\"]\n",
        "\n",
        "# Query without process insights\n",
        "def answer_without_insights(question):\n",
        "    prompt = create_prompt_without_insights(question)\n",
        "    response = generator(prompt, max_length=2000, num_return_sequences=1)\n",
        "    return response[0][\"generated_text\"]"
      ]
    },
    {
      "cell_type": "code",
      "execution_count": null,
      "metadata": {
        "colab": {
          "background_save": true,
          "base_uri": "https://localhost:8080/"
        },
        "id": "Bm_EEyvtw7B7",
        "outputId": "85493c59-4a5c-4bb2-ba9a-3566ff831a5f"
      },
      "outputs": [
        {
          "name": "stderr",
          "output_type": "stream",
          "text": [
            "Truncation was not explicitly activated but `max_length` is provided a specific value, please use `truncation=True` to explicitly truncate examples to max length. Defaulting to 'longest_first' truncation strategy. If you encode pairs of sequences (GLUE-style) with the tokenizer you can select this strategy more precisely by providing a specific strategy to `truncation`.\n",
            "Setting `pad_token_id` to `eos_token_id`:50256 for open-end generation.\n"
          ]
        },
        {
          "name": "stdout",
          "output_type": "stream",
          "text": [
            "Answer with Process Insights:\n"
          ]
        },
        {
          "name": "stderr",
          "output_type": "stream",
          "text": [
            "Setting `pad_token_id` to `eos_token_id`:50256 for open-end generation.\n"
          ]
        },
        {
          "name": "stdout",
          "output_type": "stream",
          "text": [
            "\n",
            "The following are process insights for handling insurance claims:\n",
            "1. Average case duration: 3025321.37 seconds\n",
            "2. Most frequent traces:\n",
            "    - Trace: ('First Notification of Loss (FNOL)', 'Assign Claim', 'Claim Decision', 'Set Reserve', 'Payment Sent', 'Close Claim'), Count: 29265\n",
            "    - Trace: ('First Notification of Loss (FNOL)', 'Claim Decision', 'Assign Claim', 'Set Reserve', 'Payment Sent', 'Close Claim'), Count: 188\n",
            "    - Trace: ('First Notification of Loss (FNOL)', 'Assign Claim', 'Claim Decision', 'Payment Sent', 'Set Reserve', 'Close Claim'), Count: 180\n",
            "    - Trace: ('First Notification of Loss (FNOL)', 'Assign Claim', 'Set Reserve', 'Claim Decision', 'Payment Sent', 'Close Claim'), Count: 175\n",
            "    - Trace: ('First Notification of Loss (FNOL)', 'Assign Claim', 'Claim Decision', 'Set Reserve', 'Close Claim', 'Payment Sent'), Count: 173\n",
            "\n",
            "Question: What is the most frequent sequence of activities in the process?\n",
            "Answer:\n",
            "1. First notification of loss (FNOL) \n",
            "                                                                    2. Claim Decision \n",
            "                                                                              3. Set Reserve \n",
            "                                                                                   4. Payment Sent \n",
            "                                                                                   5. Close Claim\n",
            "                                                                                    6. Assign Claim \n",
            "                                                                                 7. Claim Decision \n",
            "                                                                                    8. Set Reserve \n",
            "                                                                                     9. Payment Sent \n",
            "                                                                                    10. Close Claim\n",
            "\n",
            "A:\n",
            "\n",
            "I have two answers\n",
            "\n",
            "The process activity with the most common trace is\n",
            "            Trace: ('First Notification of Loss (FNOL)', 'Claim Decision', 'Assign Claim', 'Claim Decision', 'Set Reserve', 'Payment Sent', 'Close Claim'), Count: 29265\n",
            "                                                                    Trace: ('First Notification of Loss (FNOL)', 'Claim Decision', 'Assign Claim', 'Claim Decision', 'Set Reserve', 'Payment Sent', 'Close Claim'), Count: 188\n",
            "                                                                    Trace: ('First Notification of Loss (FNOL)', 'Assign Claim', 'Claim Decision', 'Payment Sent', 'Set Reserve', 'Close Claim'), Count: 180\n",
            "                                                                      Trace: ('First Notification of Loss (FNOL)', 'Assign Claim', 'Claim Decision', 'Payment Sent', 'Set Reserve', 'Close Claim'), Count: 175\n",
            "                                                                     Trace: ('First Notification of Loss (FNOL)', 'Assign Claim', 'Set Reserve', 'Claim Decision', 'Payment Sent', 'Close Claim'), Count: 173\n",
            "                                                                  Trace: ('First Notification of Loss (FNOL)', 'Assign Claim', 'Set Reserve', 'Claim Decision', 'Payment Sent', 'Close Claim'), Count: 180\n",
            "                                                                  Trace: ('First Notification of Loss (FNOL)', 'Assign Claim', 'Set Reserve', 'Claim Decision', 'Payment Sent', 'Close Claim'), Count: 170\n",
            "\n",
            "The most frequent process activity is\n",
            "            Trace: ('First Notification of Loss (FNOL)', 'Claim Decision', 'Assign Claim', 'Claim Decision', 'Set Reserve', 'Payment Sent', 'Close Claim'), Count: 29265\n",
            "                                                                    Trace: ('First Notification of Loss (FNOL)', 'Claim Decision', 'Assign Claim', 'Claim Decision', 'Set Reserve', 'Payment Sent', 'Close Claim'), Count: 188\n",
            "                                                                     Trace: ('First Notification\n",
            "\n",
            "Answer without Process Insights:\n",
            "\n",
            "The following process represents the handling of insurance claims:\n",
            "['First Notification of Loss (FNOL)', 'Assign Claim', 'Claim Decision', 'Set Reserve', 'Payment Sent', 'Close Claim']\n",
            "\n",
            "Question: What is the most frequent sequence of activities in the process?\n",
            "Answer:\n",
            "\n",
            "'FNOL'\n",
            "'Claim Decision'\n",
            "'Set Reserve'\n",
            "'Payment Sent'\n",
            "'Close Claim'\n",
            "\n",
            "A:\n",
            "\n",
            "You have 2 choices for the sequence of activities. Your question is not specific to any particular action in the sequence. \n",
            "\n",
            "The most common method is 'FNOL' which means first notification of loss (FOL) followed by assign claim (ALC). It is followed by claim decision (COD) and then set reserve (SRS).\n",
            "The second choice is 'Claim Decision' which means assign a claim, followed by a claim determination (CD). It is followed by the set reserve (SR) where it settles the claim and then a payment sent (PS).\n",
            "\n",
            "In the first case, 'FNOL' is followed by COD, SRS, PS. In the second case, it is followed by CD, SRS, SR.\n",
            "\n",
            "A:\n",
            "\n",
            "The most common sequence is\n",
            "FNOL → COD → SRS → PS → Close Claim\n",
            "\n",
            "The following sequence is\n",
            "FNOL → Claims Decision → COD → SRS → PS → Close Claim\n",
            "\n",
            "The difference is that in the first sequence, the assignment of a claim is a part of the overall process, whereas in the second the assignment of a claim is not part of the overall process.\n",
            "\n",
            "A:\n",
            "\n",
            "Yes, the sequence is\n",
            "FNOL → COD → SRS → PS → Close Claim\n",
            "\n",
            "In the first case, the assignment of the claim is part of the total process, therefore, it is followed by COD and SRS. In the second case, it is not part of the total process, therefore, it is followed by the other events, but it is not a part of the sequence and therefore, can be ignored.\n",
            "\n",
            "\n"
          ]
        }
      ],
      "source": [
        "question = \"What is the most frequent sequence of activities in the process?\"\n",
        "\n",
        "# Answer with process insights\n",
        "print(\"Answer with Process Insights:\")\n",
        "print(answer_with_insights(question, process_insights))\n",
        "\n",
        "# Answer without process insights\n",
        "print(\"\\nAnswer without Process Insights:\")\n",
        "print(answer_without_insights(question))"
      ]
    },
    {
      "cell_type": "code",
      "execution_count": null,
      "metadata": {
        "id": "jNz7QQyNw-Gj"
      },
      "outputs": [],
      "source": []
    }
  ],
  "metadata": {
    "colab": {
      "provenance": []
    },
    "kernelspec": {
      "display_name": "Python 3",
      "name": "python3"
    },
    "language_info": {
      "name": "python"
    }
  },
  "nbformat": 4,
  "nbformat_minor": 0
}